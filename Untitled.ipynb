{
 "cells": [
  {
   "cell_type": "code",
   "execution_count": 12,
   "metadata": {},
   "outputs": [],
   "source": [
    "import numpy as np\n",
    "import pandas as pd\n",
    "import matplotlib.pyplot as plt\n",
    "import seaborn as sb\n",
    "\n",
    "%matplotlib inline\n",
    "\n"
   ]
  },
  {
   "cell_type": "code",
   "execution_count": null,
   "metadata": {},
   "outputs": [],
   "source": [
    "print(\"hello\")\n",
    "# x = pd.read_csv('data/marvel_charcters.csv')\n",
    "# for i in range(x['FIRST APPEARANCE'].size):\n",
    "#     g = x['FIRST APPEARANCE'].iloc[i]\n",
    "#     temp_store = list(str(g))\n",
    "#     new_str = \"\"\n",
    "#     for i in temp_store[0:3]:\n",
    "#         new_str+=i\n",
    "#     gee = x[x[\"FIRST APPEARANCE\"] == g]\n",
    "#     gee[\"FIRST APPEARANCE\"] = new_str\n",
    "#     x = gee\n",
    "# print(x.head(10)[\"FIRST APPEARANCE\"])\n",
    "# # print(x.head(5))\n"
   ]
  },
  {
   "cell_type": "code",
   "execution_count": null,
   "metadata": {},
   "outputs": [],
   "source": []
  },
  {
   "cell_type": "code",
   "execution_count": null,
   "metadata": {},
   "outputs": [],
   "source": []
  },
  {
   "cell_type": "code",
   "execution_count": null,
   "metadata": {},
   "outputs": [],
   "source": []
  },
  {
   "cell_type": "code",
   "execution_count": null,
   "metadata": {},
   "outputs": [],
   "source": [
    "#     print(i)\n",
    "# h = x.describe()\n",
    "# g = h[h.keys()[1]].loc[\"max\"]\n",
    "# x[x[h.keys()[1]] == g]\n",
    "# gee = x[x[\"ALIGN\"] == \"Neutral Characters\"]\n",
    "# gee[\"ALIGN\"] = \"THEY ARE GOOD PEOPLE NOW\"\n",
    "\n",
    "# x[\"ALIGN\"]\n",
    "# month = 10\n",
    "# year = 2002\n",
    "# year = x[(x[\"year\"] == year)]\n",
    "# g = year[year[\"month\"] == month]\n",
    "# # print(x)\n",
    "# # sb.countplot(data = x, x = 'day_of_week',hue = x.keys()[len(x.keys()) - 1])\n",
    "# print(g)\n",
    "# sb.countplot(data=g,x=\"day_of_week\")\n",
    "# plt.xlim(0.4,7)\n",
    "# plt.ylim(20,50)"
   ]
  }
 ],
 "metadata": {
  "kernelspec": {
   "display_name": "Python 3",
   "language": "python",
   "name": "python3"
  },
  "language_info": {
   "codemirror_mode": {
    "name": "ipython",
    "version": 3
   },
   "file_extension": ".py",
   "mimetype": "text/x-python",
   "name": "python",
   "nbconvert_exporter": "python",
   "pygments_lexer": "ipython3",
   "version": "3.7.3"
  }
 },
 "nbformat": 4,
 "nbformat_minor": 2
}
